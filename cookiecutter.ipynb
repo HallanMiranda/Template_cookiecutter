{
 "cells": [
  {
   "cell_type": "markdown",
   "metadata": {},
   "source": [
    "Passo 1: Instale o Cookiecutter:\n",
    "Certifique-se de ter o Cookiecutter instalado. Você pode instalá-lo usando o seguinte comando no terminal:"
   ]
  },
  {
   "cell_type": "code",
   "execution_count": 1,
   "metadata": {},
   "outputs": [],
   "source": [
    "# pip install cookiecutter"
   ]
  },
  {
   "cell_type": "markdown",
   "metadata": {},
   "source": [
    "Passo 2: Crie o Diretório para o Template\n",
    "Vamos criar um diretório para conter nosso template Cookiecutter. Neste exemplo, nomearemos o diretório como project_template.\n",
    "\n"
   ]
  },
  {
   "cell_type": "code",
   "execution_count": null,
   "metadata": {},
   "outputs": [],
   "source": [
    "# mkdir project_template\n",
    "# cd project_template\n"
   ]
  },
  {
   "cell_type": "markdown",
   "metadata": {},
   "source": [
    "Passo 3: Crie a Estrutura de Diretórios e Arquivos\n",
    "Dentro do diretório project_template, crie a estrutura de diretórios e arquivos conforme mencionado:"
   ]
  },
  {
   "cell_type": "code",
   "execution_count": null,
   "metadata": {},
   "outputs": [],
   "source": [
    "# mkdir -p {{cookiecutter.project_name}}/{data/{external,interim,processed,raw},docs,models,notebooks,references,reports/figures,src/{data,features,models,visualization}}\n",
    "# touch {{cookiecutter.project_name}}/{LICENSE,Makefiletr,README.md,requirements.txt,setup.py,tox.ini}\n"
   ]
  },
  {
   "cell_type": "markdown",
   "metadata": {},
   "source": [
    "Passo 4: Crie o Arquivo cookiecutter.json\n",
    "Dentro do diretório project_template, crie o arquivo cookiecutter.json com as variáveis a serem substituídas durante a execução do Cookiecutter.\n",
    "\n",
    "json"
   ]
  },
  {
   "cell_type": "code",
   "execution_count": null,
   "metadata": {},
   "outputs": [],
   "source": [
    "{\n",
    "  \"project_name\": \"my_project\"\n",
    "}\n"
   ]
  },
  {
   "cell_type": "markdown",
   "metadata": {},
   "source": [
    "Passo 5: Teste o Modelo Localmente\n",
    "Ainda no diretório project_template, teste o modelo localmente para garantir que a estrutura seja gerada corretamente."
   ]
  },
  {
   "cell_type": "code",
   "execution_count": null,
   "metadata": {},
   "outputs": [],
   "source": [
    "cookiecutter .\n"
   ]
  },
  {
   "cell_type": "markdown",
   "metadata": {},
   "source": [
    "Responda às perguntas interativas conforme necessário.\n",
    "\n",
    "Passo 6: Publique o Modelo\n",
    "Publique o diretório project_template em um repositório no GitHub ou em outra plataforma de controle de versão.\n",
    "\n",
    "Passo 7: Crie um Novo Projeto Usando o Template\n",
    "Agora, você pode criar um novo projeto usando o template recém-criado em qualquer diretório desejado. Vamos chamá-lo de my_new_project.\n",
    "\n"
   ]
  },
  {
   "cell_type": "code",
   "execution_count": null,
   "metadata": {},
   "outputs": [],
   "source": [
    "cookiecutter gh:seu_usuario/project_template\n"
   ]
  },
  {
   "cell_type": "markdown",
   "metadata": {},
   "source": [
    "Responda às perguntas interativas novamente e o Cookiecutter criará a estrutura de diretórios e arquivos para o novo projeto com base no template.\n",
    "\n",
    "Esse é um exemplo básico de como criar e reutilizar um template Cookiecutter. Certifique-se de personalizar a estrutura conforme necessário para atender aos requisitos específicos do seu projeto."
   ]
  },
  {
   "cell_type": "markdown",
   "metadata": {},
   "source": []
  },
  {
   "cell_type": "markdown",
   "metadata": {},
   "source": []
  },
  {
   "cell_type": "markdown",
   "metadata": {},
   "source": []
  },
  {
   "cell_type": "code",
   "execution_count": null,
   "metadata": {},
   "outputs": [],
   "source": []
  },
  {
   "cell_type": "code",
   "execution_count": null,
   "metadata": {},
   "outputs": [],
   "source": []
  },
  {
   "cell_type": "markdown",
   "metadata": {},
   "source": []
  }
 ],
 "metadata": {
  "kernelspec": {
   "display_name": "env_cookie",
   "language": "python",
   "name": "python3"
  },
  "language_info": {
   "codemirror_mode": {
    "name": "ipython",
    "version": 3
   },
   "file_extension": ".py",
   "mimetype": "text/x-python",
   "name": "python",
   "nbconvert_exporter": "python",
   "pygments_lexer": "ipython3",
   "version": "3.11.5"
  },
  "orig_nbformat": 4
 },
 "nbformat": 4,
 "nbformat_minor": 2
}
